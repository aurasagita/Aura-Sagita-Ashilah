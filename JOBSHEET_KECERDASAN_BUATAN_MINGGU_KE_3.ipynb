{
  "nbformat": 4,
  "nbformat_minor": 0,
  "metadata": {
    "colab": {
      "provenance": [],
      "authorship_tag": "ABX9TyPAqGBZldOZwyOraHzNQ6Vn",
      "include_colab_link": true
    },
    "kernelspec": {
      "name": "python3",
      "display_name": "Python 3"
    },
    "language_info": {
      "name": "python"
    }
  },
  "cells": [
    {
      "cell_type": "markdown",
      "metadata": {
        "id": "view-in-github",
        "colab_type": "text"
      },
      "source": [
        "<a href=\"https://colab.research.google.com/github/aurasagita/Aura-Sagita-Ashilah/blob/main/JOBSHEET_KECERDASAN_BUATAN_MINGGU_KE_3.ipynb\" target=\"_parent\"><img src=\"https://colab.research.google.com/assets/colab-badge.svg\" alt=\"Open In Colab\"/></a>"
      ]
    },
    {
      "cell_type": "code",
      "execution_count": 21,
      "metadata": {
        "colab": {
          "base_uri": "https://localhost:8080/"
        },
        "id": "XeHgmAvf4JwB",
        "outputId": "31dacb25-66ae-41cc-e9f6-dc6a347911b6"
      },
      "outputs": [
        {
          "output_type": "stream",
          "name": "stdout",
          "text": [
            "Hasil penulusuran graf menggunakan BFS:\n",
            "A B C D E F H G "
          ]
        }
      ],
      "source": [
        "graph = {\n",
        "  'A' : ['B','C'],\n",
        "  'B': ['D','E'],\n",
        "  'C': ['F'],\n",
        "  'D': [],\n",
        "  'E': ['F'],\n",
        "  'F': ['H'],\n",
        "  'G': ['H'], \n",
        "  'H': ['G']\n",
        "}\n",
        "\n",
        "visited = [] # list to keep track of visited nodes.\n",
        "queue = []   #Initialize a queue\n",
        "\n",
        "def bfs(visited, graph, node): \n",
        "  visited.append(node) \n",
        "  queue.append(node)\n",
        "\n",
        "  while queue:\n",
        "    s = queue.pop(0)\n",
        "    print (s, end = \" \")\n",
        "\n",
        "    for neighbour in graph[s]:\n",
        "     if neighbour not in visited:\n",
        "       visited.append(neighbour)\n",
        "       queue.append(neighbour)\n",
        "\n",
        "    \n",
        "print(\"Hasil penulusuran graf menggunakan BFS:\")\n",
        "bfs (visited, graph, 'A') \n"
      ]
    },
    {
      "cell_type": "code",
      "source": [
        "graph = {\n",
        "  'A' : ['B','C'],\n",
        "  'B': ['D','E'],\n",
        "  'C': ['F'],\n",
        "  'D': [],\n",
        "  'E': ['F'],\n",
        "  'F': ['H'],\n",
        "  'G': ['H'], \n",
        "  'H': ['G']\n",
        "}\n",
        "\n",
        "visited = set()\n",
        "\n",
        "\n",
        "def dfs(visited, graph, node): \n",
        "    if node not in visited: \n",
        "        print (node)\n",
        "        visited.add(node)\n",
        "        for neighbour in graph[node]:\n",
        "            dfs(visited, graph, neighbour)\n",
        "   \n",
        "print(\"Hasil penulusuran graf menggunakan DFS:\")\n",
        "dfs (visited, graph, 'A') \n"
      ],
      "metadata": {
        "colab": {
          "base_uri": "https://localhost:8080/"
        },
        "id": "giNcqMFn-2KH",
        "outputId": "5ca55ac7-f362-4b6b-adc1-9708434d2332"
      },
      "execution_count": 26,
      "outputs": [
        {
          "output_type": "stream",
          "name": "stdout",
          "text": [
            "Hasil penulusuran graf menggunakan DFS:\n",
            "A\n",
            "B\n",
            "D\n",
            "E\n",
            "F\n",
            "H\n",
            "G\n",
            "C\n"
          ]
        }
      ]
    },
    {
      "cell_type": "code",
      "source": [
        "# Latihan 1 BFS\n",
        "graph = {\n",
        "\n",
        "'A': ['B','E','F'],\n",
        "'B': ['F','G'],\n",
        "'C': ['D','G'],\n",
        "'D': ['C','H'],\n",
        "'E': ['A','F'],\n",
        "'F': ['B','A','E'],\n",
        "'G': ['B','C','H'],\n",
        "'H': ['G','H']\n",
        "}\n",
        "\n",
        "visited = [] # list to keep track of visited nodes.\n",
        "queue = []   #Initialize a queue\n",
        "\n",
        "def bfs(visited, graph, node): \n",
        "  visited.append(node) \n",
        "  queue.append(node)\n",
        "\n",
        "  while queue:\n",
        "    s = queue.pop(0)\n",
        "    print (s, end = \" \")\n",
        "\n",
        "    for neighbour in graph[s]:\n",
        "     if neighbour not in visited:\n",
        "       visited.append(neighbour)\n",
        "       queue.append(neighbour)\n",
        "\n",
        "print(\"Hasil penulusuran graf menggunakan BFS:\")\n",
        "bfs (visited, graph, 'A') \n"
      ],
      "metadata": {
        "colab": {
          "base_uri": "https://localhost:8080/"
        },
        "id": "dlzuR0KRJhkv",
        "outputId": "7b590bd3-640f-426a-8d26-8eba91055667"
      },
      "execution_count": 27,
      "outputs": [
        {
          "output_type": "stream",
          "name": "stdout",
          "text": [
            "Hasil penulusuran graf menggunakan BFS:\n",
            "A B E F G C H D "
          ]
        }
      ]
    },
    {
      "cell_type": "code",
      "source": [
        "#LATIHAN1 DFS\n",
        "graph = {\n",
        "\n",
        "  'A': ['B'],\n",
        "  'B': ['F','G','A'],\n",
        "  'C': ['G','D'],\n",
        "  'D': ['C','H'],\n",
        "  'E': ['F'],\n",
        "  'F': ['E','B'],\n",
        "  'G': ['C'],\n",
        "  'H': []\n",
        "\n",
        "}\n",
        "\n",
        "visited = set()\n",
        "\n",
        "\n",
        "def dfs(visited, graph, node): \n",
        "    if node not in visited: \n",
        "        print (node)\n",
        "        visited.add(node)\n",
        "        for neighbour in graph[node]:\n",
        "            dfs(visited, graph, neighbour)\n",
        "   \n",
        "print(\"Hasil penulusuran graf menggunakan DFS:\")\n",
        "dfs (visited, graph, 'A') \n"
      ],
      "metadata": {
        "colab": {
          "base_uri": "https://localhost:8080/"
        },
        "id": "JFF47qByKuTV",
        "outputId": "b29ed895-36cf-4b41-de9c-4a182b007ec1"
      },
      "execution_count": 30,
      "outputs": [
        {
          "output_type": "stream",
          "name": "stdout",
          "text": [
            "Hasil penulusuran graf menggunakan DFS:\n",
            "A\n",
            "B\n",
            "F\n",
            "E\n",
            "G\n",
            "C\n",
            "D\n",
            "H\n"
          ]
        }
      ]
    },
    {
      "cell_type": "code",
      "source": [
        "graph = {\n",
        "\n",
        "  'A': ['B'],\n",
        "  'B': ['A','F','G'],\n",
        "  'C': ['D','G'],\n",
        "  'D': ['C','H'],\n",
        "  'E': [],\n",
        "  'F': ['B','E'],\n",
        "  'G': ['B','C'],\n",
        "  'H': ['D'],\n",
        "\n",
        "}\n",
        "\n",
        "visited = [] # list to keep track of visited nodes.\n",
        "queue = []   #Initialize a queue\n",
        "\n",
        "def bfs(visited, graph, node): \n",
        "  visited.append(node) \n",
        "  queue.append(node)\n",
        "\n",
        "  while queue:\n",
        "    s = queue.pop(0)\n",
        "    print (s, end = \" \")\n",
        "\n",
        "    for neighbour in graph[s]:\n",
        "     if neighbour not in visited:\n",
        "       visited.append(neighbour)\n",
        "       queue.append(neighbour)\n",
        "\n",
        "print(\"Hasil penulusuran uruf D graf menggunakan BFS:\")\n",
        "bfs (visited, graph, 'A') "
      ],
      "metadata": {
        "colab": {
          "base_uri": "https://localhost:8080/"
        },
        "id": "KEQJaUbPTOhT",
        "outputId": "c798cda7-a074-462d-95dc-7bb6b55bdfe9"
      },
      "execution_count": 47,
      "outputs": [
        {
          "output_type": "stream",
          "name": "stdout",
          "text": [
            "Hasil penulusuran uruf D graf menggunakan BFS:\n",
            "A B F G E C D H "
          ]
        }
      ]
    },
    {
      "cell_type": "code",
      "source": [
        "graph={\n",
        "  'A': ['B'],\n",
        "  'B': ['A', 'F', 'G'], \n",
        "  'C': ['D', 'G'],\n",
        "  'D': ['C', 'H'], \n",
        "  'E': ['F'],\n",
        "  'F': ['B', 'E'], \n",
        "  'G': ['B', 'C'],\n",
        "  'H': ['D']\n",
        "}\n",
        "\n",
        "visited = set()\n",
        "\n",
        "\n",
        "def dfs(visited, graph, node): \n",
        "    if node not in visited: \n",
        "        print (node)\n",
        "        visited.add(node)\n",
        "        for neighbour in graph[node]:\n",
        "            dfs(visited, graph, neighbour)\n",
        "   \n",
        "print(\"Hasil penulusuran huruf D graf menggunakan DFS:\")\n",
        "dfs (visited, graph, 'A') \n"
      ],
      "metadata": {
        "colab": {
          "base_uri": "https://localhost:8080/"
        },
        "id": "1EdJ6T7eWD_c",
        "outputId": "e525d6b6-afaf-43ec-9293-9eb85c2dc8b8"
      },
      "execution_count": 45,
      "outputs": [
        {
          "output_type": "stream",
          "name": "stdout",
          "text": [
            "Hasil penulusuran huruf D graf menggunakan DFS:\n",
            "A\n",
            "B\n",
            "F\n",
            "E\n",
            "G\n",
            "C\n",
            "D\n",
            "H\n"
          ]
        }
      ]
    }
  ]
}