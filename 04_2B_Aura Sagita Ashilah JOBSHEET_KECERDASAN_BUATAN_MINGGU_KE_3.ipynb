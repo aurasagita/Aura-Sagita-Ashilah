{
  "nbformat": 4,
  "nbformat_minor": 0,
  "metadata": {
    "colab": {
      "provenance": [],
      "authorship_tag": "ABX9TyOwL3X2zfmIHYKgR+WOGbEH",
      "include_colab_link": true
    },
    "kernelspec": {
      "name": "python3",
      "display_name": "Python 3"
    },
    "language_info": {
      "name": "python"
    }
  },
  "cells": [
    {
      "cell_type": "markdown",
      "metadata": {
        "id": "view-in-github",
        "colab_type": "text"
      },
      "source": [
        "<a href=\"https://colab.research.google.com/github/aurasagita/Aura-Sagita-Ashilah/blob/main/04_2B_Aura%20Sagita%20Ashilah%20JOBSHEET_KECERDASAN_BUATAN_MINGGU_KE_3.ipynb\" target=\"_parent\"><img src=\"https://colab.research.google.com/assets/colab-badge.svg\" alt=\"Open In Colab\"/></a>"
      ]
    },
    {
      "cell_type": "code",
      "execution_count": 21,
      "metadata": {
        "colab": {
          "base_uri": "https://localhost:8080/"
        },
        "id": "XeHgmAvf4JwB",
        "outputId": "31dacb25-66ae-41cc-e9f6-dc6a347911b6"
      },
      "outputs": [
        {
          "output_type": "stream",
          "name": "stdout",
          "text": [
            "Hasil penulusuran graf menggunakan BFS:\n",
            "A B C D E F H G "
          ]
        }
      ],
      "source": [
        "graph = {\n",
        "  'A' : ['B','C'],\n",
        "  'B': ['D','E'],\n",
        "  'C': ['F'],\n",
        "  'D': [],\n",
        "  'E': ['F'],\n",
        "  'F': ['H'],\n",
        "  'G': ['H'], \n",
        "  'H': ['G']\n",
        "}\n",
        "\n",
        "visited = [] # list to keep track of visited nodes.\n",
        "queue = []   #Initialize a queue\n",
        "\n",
        "def bfs(visited, graph, node): \n",
        "  visited.append(node) \n",
        "  queue.append(node)\n",
        "\n",
        "  while queue:\n",
        "    s = queue.pop(0)\n",
        "    print (s, end = \" \")\n",
        "\n",
        "    for neighbour in graph[s]:\n",
        "     if neighbour not in visited:\n",
        "       visited.append(neighbour)\n",
        "       queue.append(neighbour)\n",
        "\n",
        "    \n",
        "print(\"Hasil penulusuran graf menggunakan BFS:\")\n",
        "bfs (visited, graph, 'A') \n"
      ]
    },
    {
      "cell_type": "code",
      "source": [
        "graph = {\n",
        "  'A' : ['B','C'],\n",
        "  'B': ['D','E'],\n",
        "  'C': ['F'],\n",
        "  'D': [],\n",
        "  'E': ['F'],\n",
        "  'F': ['H'],\n",
        "  'G': ['H'], \n",
        "  'H': ['G']\n",
        "}\n",
        "\n",
        "visited = set()\n",
        "\n",
        "\n",
        "def dfs(visited, graph, node): \n",
        "    if node not in visited: \n",
        "        print (node)\n",
        "        visited.add(node)\n",
        "        for neighbour in graph[node]:\n",
        "            dfs(visited, graph, neighbour)\n",
        "   \n",
        "print(\"Hasil penulusuran graf menggunakan DFS:\")\n",
        "dfs (visited, graph, 'A') \n"
      ],
      "metadata": {
        "colab": {
          "base_uri": "https://localhost:8080/"
        },
        "id": "giNcqMFn-2KH",
        "outputId": "5ca55ac7-f362-4b6b-adc1-9708434d2332"
      },
      "execution_count": 26,
      "outputs": [
        {
          "output_type": "stream",
          "name": "stdout",
          "text": [
            "Hasil penulusuran graf menggunakan DFS:\n",
            "A\n",
            "B\n",
            "D\n",
            "E\n",
            "F\n",
            "H\n",
            "G\n",
            "C\n"
          ]
        }
      ]
    }
  ]
}